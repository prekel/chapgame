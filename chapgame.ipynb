{
 "cells": [
  {
   "cell_type": "code",
   "execution_count": null,
   "metadata": {
    "dotnet_interactive": {
     "language": "fsharp"
    }
   },
   "outputs": [
    {
     "data": {
      "text/html": [
       "<div><div></div><div></div><div><strong>Installed Packages</strong><ul><li><span>angourimath.fsharp, 1.4.0-preview.3</span></li><li><span>AngouriMath.Interactive, 1.4.0-preview.3</span></li></ul></div></div>"
      ]
     },
     "metadata": {},
     "output_type": "display_data"
    }
   ],
   "source": [
    "#r \"nuget: AngouriMath.Interactive, 1.4.0-preview.3\"\n",
    "#r \"nuget: AngouriMath.FSharp, 1.4.0-preview.3\""
   ]
  },
  {
   "cell_type": "code",
   "execution_count": null,
   "metadata": {
    "dotnet_interactive": {
     "language": "fsharp"
    }
   },
   "outputs": [
    {
     "name": "stdout",
     "output_type": "stream",
     "text": [
      "x / y + x * y / 2\r\n"
     ]
    }
   ],
   "source": [
    "open AngouriMath.FSharp.Core\n",
    "open AngouriMath.FSharp.Functions\n",
    "open AngouriMath.FSharp.Shortcuts\n",
    "\n",
    "let x = symbol \"x\"\n",
    "let y = symbol \"y\"\n",
    "let expr = x / y + x * y / (parsed 2)\n",
    "printfn \"%O\" expr"
   ]
  },
  {
   "cell_type": "code",
   "execution_count": null,
   "metadata": {
    "dotnet_interactive": {
     "language": "fsharp"
    }
   },
   "outputs": [
    {
     "name": "stdout",
     "output_type": "stream",
     "text": [
      "(X_2 + Vx_2 * T + Ax_2 * T * T / 2 - (X_1 + Vx_1 * T + Ax_1 * T * T / 2)) ^ 2 + (Y_2 + Vy_2 * T + Ay_2 * T * T / 2 - (Y_1 + Vy_1 * T + Ay_1 * T * T / 2)) ^ 2 - (R_1 + R_2) ^ 2\r\n"
     ]
    }
   ],
   "source": [
    "let st s0 v0 a t = s0 + v0 * t + a * t * t / parsed 2\n",
    "let t = AngouriMath.MathS.Var \"T\"\n",
    "let x1t = st (symbol \"X_1\") (symbol \"Vx_1\") (symbol \"Ax_1\") t\n",
    "let y1t = st (symbol \"Y_1\") (symbol \"Vy_1\") (symbol \"Ay_1\") t\n",
    "let x2t = st (symbol \"X_2\") (symbol \"Vx_2\") (symbol \"Ax_2\") t\n",
    "let y2t = st (symbol \"Y_2\") (symbol \"Vy_2\") (symbol \"Ay_2\") t\n",
    "let r1 = symbol \"R_1\"\n",
    "let r2 = symbol \"R_2\"\n",
    "let e1 = (x2t - x1t) ** parsed 2\n",
    "let e = (x2t - x1t) ** parsed 2 + (y2t - y1t) ** parsed 2 - (r1 + r2) ** parsed 2\n",
    "printfn \"%O\" e\n"
   ]
  },
  {
   "cell_type": "code",
   "execution_count": null,
   "metadata": {
    "dotnet_interactive": {
     "language": "fsharp"
    }
   },
   "outputs": [
    {
     "name": "stdout",
     "output_type": "stream",
     "text": [
      "\\frac{8 {Ax_{1}}^{2}}{32} \\cdot {T}^{4}+\\frac{\\left(-16\\right) \\cdot Ax_{1} Ax_{2}}{32} \\cdot {T}^{4}+\\frac{8 {Ax_{2}}^{2}}{32} \\cdot {T}^{4}+\\frac{{Ay_{1}}^{2}}{4} \\cdot {T}^{4}+\\frac{\\left(-1\\right) \\cdot Ay_{1} Ay_{2}}{2} \\cdot {T}^{4}+\\frac{{Ay_{2}}^{2}}{4} \\cdot {T}^{4}+Ax_{1} Vx_{1} \\cdot {T}^{3}+\\left(-1\\right) \\cdot Ax_{1} Vx_{2} \\cdot {T}^{3}+\\left(-1\\right) \\cdot Ax_{2} Vx_{1} \\cdot {T}^{3}+Ax_{2} Vx_{2} \\cdot {T}^{3}+Ay_{1} Vy_{1} \\cdot {T}^{3}+\\left(-1\\right) \\cdot Ay_{1} Vy_{2} \\cdot {T}^{3}+\\left(-1\\right) \\cdot Ay_{2} Vy_{1} \\cdot {T}^{3}+Ay_{2} Vy_{2} \\cdot {T}^{3}+Ax_{1} X_{1} \\cdot {T}^{2}+\\left(-1\\right) \\cdot Ax_{1} X_{2} \\cdot {T}^{2}+\\left(-1\\right) \\cdot Ax_{2} X_{1} \\cdot {T}^{2}+Ax_{2} X_{2} \\cdot {T}^{2}+Ay_{1} Y_{1} \\cdot {T}^{2}+\\left(-1\\right) \\cdot Ay_{1} Y_{2} \\cdot {T}^{2}+\\left(-1\\right) \\cdot Ay_{2} Y_{1} \\cdot {T}^{2}+Ay_{2} Y_{2} \\cdot {T}^{2}+{Vx_{1}}^{2} {T}^{2}+\\left(-2\\right) \\cdot Vx_{1} Vx_{2} \\cdot {T}^{2}+{Vx_{2}}^{2} {T}^{2}+{Vy_{1}}^{2} {T}^{2}+\\left(-2\\right) \\cdot Vy_{1} Vy_{2} \\cdot {T}^{2}+{Vy_{2}}^{2} {T}^{2}-{R_{1}}^{2}+\\left(-2\\right) \\cdot R_{1} R_{2}-{R_{2}}^{2}+T 2 Vx_{1} X_{1}+T \\cdot \\left(-2\\right) \\cdot Vx_{1} X_{2}+T \\cdot \\left(-2\\right) \\cdot Vx_{2} X_{1}+T 2 Vx_{2} X_{2}+T 2 Vy_{1} Y_{1}+T \\cdot \\left(-2\\right) \\cdot Vy_{1} Y_{2}+T \\cdot \\left(-2\\right) \\cdot Vy_{2} Y_{1}+T 2 Vy_{2} Y_{2}+{X_{1}}^{2}+\\left(-2\\right) \\cdot X_{1} X_{2}+{X_{2}}^{2}+{Y_{1}}^{2}+\\left(-2\\right) \\cdot Y_{1} Y_{2}+{Y_{2}}^{2}\r\n"
     ]
    }
   ],
   "source": [
    "printfn \"%O\" (((e).Expand().Expand().Expand().Expand() |> simplified ).Expand() |> latex)"
   ]
  }
 ],
 "metadata": {
  "kernelspec": {
   "display_name": ".NET (C#)",
   "language": "C#",
   "name": ".net-csharp"
  },
  "language_info": {
   "file_extension": ".cs",
   "mimetype": "text/x-csharp",
   "name": "C#",
   "pygments_lexer": "csharp",
   "version": "9.0"
  },
  "orig_nbformat": 4
 },
 "nbformat": 4,
 "nbformat_minor": 2
}
