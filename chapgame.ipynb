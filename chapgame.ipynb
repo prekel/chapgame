{
 "cells": [
  {
   "cell_type": "code",
   "execution_count": null,
   "metadata": {
    "dotnet_interactive": {
     "language": "fsharp"
    }
   },
   "outputs": [
    {
     "data": {
      "text/html": [
       "<div><div></div><div></div><div><strong>Installed Packages</strong><ul><li><span>AngouriMath.FSharp, 1.4.0-preview.3</span></li><li><span>AngouriMath.Interactive, 1.4.0-preview.3</span></li></ul></div></div>"
      ]
     },
     "metadata": {},
     "output_type": "display_data"
    },
    {
     "data": {
      "text/markdown": [
       "Loading extensions from `AngouriMath.Interactive.dll`"
      ]
     },
     "metadata": {},
     "output_type": "display_data"
    },
    {
     "ename": "Error",
     "evalue": "Microsoft.DotNet.Interactive.KernelExtensionLoadException: Failure loading Kernel Extension\r\n ---> System.MissingMethodException: Method not found: 'Microsoft.DotNet.Interactive.DisplayedValue Microsoft.DotNet.Interactive.KernelInvocationContextExtensions.Display(Microsoft.DotNet.Interactive.KernelInvocationContext, System.Object, System.String)'.\r\n   at AngouriMath.InteractiveExtension.KernelExtension.Microsoft.DotNet.Interactive.IKernelExtension.OnLoadAsync(Kernel _arg1)\r\n   at Microsoft.DotNet.Interactive.Extensions.AssemblyBasedExtensionLoader.LoadFromAssembly(FileInfo assemblyFile, Kernel kernel, KernelInvocationContext context) in D:\\a\\_work\\1\\s\\src\\Microsoft.DotNet.Interactive\\Extensions\\AssemblyBasedExtensionLoader.cs:line 132\r\n   --- End of inner exception stack trace ---",
     "output_type": "error",
     "traceback": [
      "Microsoft.DotNet.Interactive.KernelExtensionLoadException: Failure loading Kernel Extension\r\n",
      " ---> System.MissingMethodException: Method not found: 'Microsoft.DotNet.Interactive.DisplayedValue Microsoft.DotNet.Interactive.KernelInvocationContextExtensions.Display(Microsoft.DotNet.Interactive.KernelInvocationContext, System.Object, System.String)'.\r\n",
      "   at AngouriMath.InteractiveExtension.KernelExtension.Microsoft.DotNet.Interactive.IKernelExtension.OnLoadAsync(Kernel _arg1)\r\n",
      "   at Microsoft.DotNet.Interactive.Extensions.AssemblyBasedExtensionLoader.LoadFromAssembly(FileInfo assemblyFile, Kernel kernel, KernelInvocationContext context) in D:\\a\\_work\\1\\s\\src\\Microsoft.DotNet.Interactive\\Extensions\\AssemblyBasedExtensionLoader.cs:line 132\r\n",
      "   --- End of inner exception stack trace ---"
     ]
    }
   ],
   "source": [
    "#r \"nuget: AngouriMath.Interactive, 1.4.0-preview.3\"\n",
    "#r \"nuget: AngouriMath.FSharp, 1.4.0-preview.3\""
   ]
  },
  {
   "cell_type": "code",
   "execution_count": null,
   "metadata": {
    "dotnet_interactive": {
     "language": "fsharp"
    }
   },
   "outputs": [
    {
     "name": "stdout",
     "output_type": "stream",
     "text": [
      "x / y + x * y / 2\r\n"
     ]
    }
   ],
   "source": [
    "open AngouriMath.FSharp.Core\n",
    "open AngouriMath.FSharp.Functions\n",
    "open AngouriMath.FSharp.Shortcuts\n",
    "\n",
    "let x = symbol \"x\"\n",
    "let y = symbol \"y\"\n",
    "let expr = x / y + x * y / (parsed 2)\n",
    "printfn \"%O\" expr"
   ]
  },
  {
   "cell_type": "code",
   "execution_count": null,
   "metadata": {
    "dotnet_interactive": {
     "language": "fsharp"
    }
   },
   "outputs": [
    {
     "name": "stdout",
     "output_type": "stream",
     "text": [
      "(X_2 + Vx_2 * T + Ax_2 * T * T / 2 - (X_1 + Vx_1 * T + Ax_1 * T * T / 2)) ^ 2 + (Y_2 + Vy_2 * T + Ay_2 * T * T / 2 - (Y_1 + Vy_1 * T + Ay_1 * T * T / 2)) ^ 2 - (R_1 + R_2) ^ 2\r\n"
     ]
    }
   ],
   "source": [
    "let st s0 v0 a t = s0 + v0 * t + a * t * t / parsed 2\n",
    "let t = symbol \"T\"\n",
    "let x1 = symbol \"X_1\"\n",
    "let vx1 = symbol \"Vx_1\"\n",
    "let ax1 = symbol \"Ax_1\"\n",
    "let x1t = st x1 vx1 ax1 t\n",
    "let y1 = symbol \"Y_1\"\n",
    "let vy1 = symbol \"Vy_1\"\n",
    "let ay1 = symbol \"Ay_1\"\n",
    "let y1t = st y1 vy1 ay1 t\n",
    "let x2 = symbol \"X_2\"\n",
    "let vx2 = symbol \"Vx_2\"\n",
    "let ax2 = symbol \"Ax_2\"\n",
    "let x2t = st x2 vx2 ax2 t\n",
    "let y2 = symbol \"Y_2\"\n",
    "let vy2 = symbol \"Vy_2\"\n",
    "let ay2 = symbol \"Ay_2\"\n",
    "let y2t = st y2 vy2 ay2 t\n",
    "let r1 = symbol \"R_1\"\n",
    "let r2 = symbol \"R_2\"\n",
    "let e1 = (x2t - x1t) ** parsed 2\n",
    "let e = (x2t - x1t) ** parsed 2 + (y2t - y1t) ** parsed 2 - (r1 + r2) ** parsed 2\n",
    "printfn \"%O\" e.\n"
   ]
  },
  {
   "cell_type": "code",
   "execution_count": null,
   "metadata": {
    "dotnet_interactive": {
     "language": "fsharp"
    }
   },
   "outputs": [
    {
     "name": "stdout",
     "output_type": "stream",
     "text": [
      "\\left(\\frac{8 {Ax_{1}}^{2}+\\left(-16\\right) \\cdot Ax_{1} Ax_{2}+8 {Ax_{2}}^{2}}{32}+\\frac{{Ay_{1}}^{2}}{4}+\\frac{\\left(-1\\right) \\cdot Ay_{1} Ay_{2}}{2}+\\frac{{Ay_{2}}^{2}}{4}\\right) \\cdot {T}^{4}+\\left(Ax_{1} Vx_{1}+\\left(-1\\right) \\cdot Ax_{1} Vx_{2}+\\left(-1\\right) \\cdot Ax_{2} Vx_{1}+Ax_{2} Vx_{2}+Ay_{1} Vy_{1}+\\left(-1\\right) \\cdot Ay_{1} Vy_{2}+\\left(-1\\right) \\cdot Ay_{2} Vy_{1}+Ay_{2} Vy_{2}\\right) \\cdot {T}^{3}+\\left(Ax_{1} X_{1}+\\left(-1\\right) \\cdot Ax_{1} X_{2}+\\left(-1\\right) \\cdot Ax_{2} X_{1}+Ax_{2} X_{2}+Ay_{1} Y_{1}+\\left(-1\\right) \\cdot Ay_{1} Y_{2}+\\left(-1\\right) \\cdot Ay_{2} Y_{1}+Ay_{2} Y_{2}+{Vx_{1}}^{2}+\\left(-2\\right) \\cdot Vx_{1} Vx_{2}+{Vx_{2}}^{2}+{Vy_{1}}^{2}+\\left(-2\\right) \\cdot Vy_{1} Vy_{2}+{Vy_{2}}^{2}\\right) \\cdot {T}^{2}-{R_{1}}^{2}+\\left(-2\\right) \\cdot R_{1} R_{2}-{R_{2}}^{2}+T \\left(2 Vx_{1} X_{1}+\\left(-2\\right) \\cdot Vx_{1} X_{2}+\\left(-2\\right) \\cdot Vx_{2} X_{1}+2 Vx_{2} X_{2}+2 Vy_{1} Y_{1}+\\left(-2\\right) \\cdot Vy_{1} Y_{2}+\\left(-2\\right) \\cdot Vy_{2} Y_{1}+2 Vy_{2} Y_{2}\\right)+{X_{1}}^{2}+\\left(-2\\right) \\cdot X_{1} X_{2}+{X_{2}}^{2}+{Y_{1}}^{2}+\\left(-2\\right) \\cdot Y_{1} Y_{2}+{Y_{2}}^{2}\r\n"
     ]
    }
   ],
   "source": [
    "printfn \"%O\" ((e).Expand().Expand().Expand().Expand() |> simplified |> latex)"
   ]
  },
  {
   "cell_type": "code",
   "execution_count": null,
   "metadata": {
    "dotnet_interactive": {
     "language": "fsharp"
    }
   },
   "outputs": [],
   "source": [
    "let subst x1_v vx1_v ax1_v y1_v vy1_v ay1_v x2_v vx2_v ax2_v y2_v vy2_v ay2_v r1_v r2_v e =\n",
    "    let e = (x1, x1_v) -|> e\n",
    "    let e = (vx1, vx1_v) -|> e\n",
    "    let e = (ax1, ax1_v) -|> e\n",
    "    let e = (y1, y1_v) -|> e\n",
    "    let e = (vy1, vy1_v) -|> e\n",
    "    let e = (ay1, ay1_v) -|> e\n",
    "    let e = (x2, x2_v) -|> e\n",
    "    let e = (vx2, vx2_v) -|> e\n",
    "    let e = (ax2, ax2_v) -|> e\n",
    "    let e = (y2, y2_v) -|> e\n",
    "    let e = (vy2, vy2_v) -|> e\n",
    "    let e = (ay2, ay2_v) -|> e\n",
    "    let e = (r1, r1_v) -|> e\n",
    "    let e = (r2, r2_v) -|> e\n",
    "    e\n"
   ]
  },
  {
   "cell_type": "code",
   "execution_count": null,
   "metadata": {
    "dotnet_interactive": {
     "language": "fsharp"
    }
   },
   "outputs": [
    {
     "name": "stdout",
     "output_type": "stream",
     "text": [
      "-729 + (6 + 6 * T + (-0.1000000000000000055511151231257827021181583404541015625) * T ^ 2 / 2 + 0.0500000000000000027755575615628913510590791702270507812500000000000000000000000000000000000000000000 * T ^ 2) ^ 2 + (6 + 6 * T + (-0.11999999999999999555910790149937383830547332763671875) * T ^ 2 / 2 + 0.0500000000000000027755575615628913510590791702270507812500000000000000000000000000000000000000000000 * T ^ 2) ^ 2\r\n"
     ]
    }
   ],
   "source": [
    "let inline vec (x, y) = FSharp.Core.Operators.sqrt (float (x * x + y * y))\n",
    "let (vx1, vy1) as v1_t = 2., 5.\n",
    "let v1vec = vec v1_t\n",
    "let (ax1, ay1) as a1_t = -0.1, -0.1\n",
    "let a1vec = vec a1_t\n",
    "let (vx2, vy2) as v2_t = 8., 11.\n",
    "let v2vec = vec v2_t\n",
    "let (ax2, ay2) as a2_t = -0.1, (-0.12)\n",
    "let a2vec = vec a2_t\n",
    "let e1 = subst 1. vx1 ax1 4. vy1 ay1 7. vx2 ax2 10. vy2 ay2 13. 14. e\n",
    "printfn \"%O\" (e1 |> simplified)"
   ]
  },
  {
   "cell_type": "code",
   "execution_count": null,
   "metadata": {
    "dotnet_interactive": {
     "language": "fsharp"
    }
   },
   "outputs": [
    {
     "ename": "Error",
     "evalue": "AngouriMath.FSharp.Core+ParseException: Exception of type 'AngouriMath.FSharp.Core+ParseException' was thrown.\r\n   at AngouriMath.FSharp.Core.parsedType[a](Object x)\r\n   at AngouriMath.FSharp.Functions.solutions[a,b](a x, b expr)\r\n   at <StartupCode$FSI_0284>.$FSI_0284.main@()",
     "output_type": "error",
     "traceback": [
      "AngouriMath.FSharp.Core+ParseException: Exception of type 'AngouriMath.FSharp.Core+ParseException' was thrown.\r\n",
      "   at AngouriMath.FSharp.Core.parsedType[a](Object x)\r\n",
      "   at AngouriMath.FSharp.Functions.solutions[a,b](a x, b expr)\r\n",
      "   at <StartupCode$FSI_0284>.$FSI_0284.main@()"
     ]
    }
   ],
   "source": [
    "printfn \"%O\" (solutions t e1)"
   ]
  },
  {
   "cell_type": "code",
   "execution_count": null,
   "metadata": {
    "dotnet_interactive": {
     "language": "fsharp"
    }
   },
   "outputs": [
    {
     "data": {
      "text/html": [
       "<table><thead><tr><th>Item1</th><th>Item2</th><th>Item3</th><th>Item4</th></tr></thead><tbody><tr><td><div class=\"dni-plaintext\">5.385164807134504</div></td><td><div class=\"dni-plaintext\">13.601470508735444</div></td><td><div class=\"dni-plaintext\">2.2627416997969525</div></td><td><div class=\"dni-plaintext\">2.4992798962901297</div></td></tr></tbody></table>"
      ]
     },
     "metadata": {},
     "output_type": "display_data"
    }
   ],
   "source": [
    "let inline va a t = a * t * t\n",
    "\n",
    "let t = 4.\n",
    "let va1 = va a1vec t\n",
    "let va2 = va a2vec t\n",
    "(v1vec, v2vec, va1, va2)"
   ]
  }
 ],
 "metadata": {
  "kernelspec": {
   "display_name": ".NET (C#)",
   "language": "C#",
   "name": ".net-csharp"
  },
  "language_info": {
   "file_extension": ".cs",
   "mimetype": "text/x-csharp",
   "name": "C#",
   "pygments_lexer": "csharp",
   "version": "9.0"
  },
  "orig_nbformat": 4
 },
 "nbformat": 4,
 "nbformat_minor": 2
}
